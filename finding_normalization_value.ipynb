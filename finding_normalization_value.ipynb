{
 "cells": [
  {
   "cell_type": "code",
   "execution_count": 1,
   "metadata": {},
   "outputs": [],
   "source": [
    "import os\n",
    "\n",
    "import torch\n",
    "import torch.nn\n",
    "\n",
    "import matplotlib.pyplot as plt\n",
    "import numpy as np\n",
    "import torchvision\n",
    "from torchvision.transforms import ToTensor \n",
    "\n",
    "from src.timbre_transfer.datasets.NSynthDataset import NSynthDataset\n",
    "from src.timbre_transfer.helpers.audiotransform import AudioTransform\n",
    "device  = torch.device(\"cuda:0\" if torch.cuda.is_available() else \"cpu\")\n"
   ]
  },
  {
   "cell_type": "code",
   "execution_count": 2,
   "metadata": {},
   "outputs": [],
   "source": [
    "max_value = 0\n",
    "dataset_folder = \"data\"\n",
    "freqs_dim = 128\n",
    "AT = AudioTransform(input_freq = 16000, n_fft = 1024, n_mel = freqs_dim, stretch_factor=.8)"
   ]
  },
  {
   "cell_type": "code",
   "execution_count": 3,
   "metadata": {},
   "outputs": [
    {
     "name": "stdout",
     "output_type": "stream",
     "text": [
      "tensor(11.5604)\n"
     ]
    }
   ],
   "source": [
    "\n",
    "dataset = NSynthDataset(dataset_folder, usage = 'train', filter_key=None, transform=AT)\n",
    "loader = torch.utils.data.DataLoader(dataset=dataset, batch_size=8192*4, num_workers=0, shuffle=True)\n",
    "\n",
    "for i, (x,_) in enumerate(iter(loader)):\n",
    "    max_batch = torch.max(x)\n",
    "    max_value = max(max_value, max_batch)\n",
    "\n",
    "print(max_value)\n"
   ]
  },
  {
   "cell_type": "code",
   "execution_count": 4,
   "metadata": {},
   "outputs": [
    {
     "name": "stdout",
     "output_type": "stream",
     "text": [
      "tensor(11.5604)\n"
     ]
    }
   ],
   "source": [
    "\n",
    "dataset = NSynthDataset(dataset_folder, usage = 'test', filter_key=None, transform=AT)\n",
    "loader = torch.utils.data.DataLoader(dataset=dataset, batch_size=1024, num_workers=0, shuffle=True)\n",
    "\n",
    "for (x,_) in iter(loader):\n",
    "    max_batch = torch.max(x)\n",
    "    max_value = max(max_value, max_batch)\n",
    "\n",
    "print(max_value)"
   ]
  },
  {
   "cell_type": "code",
   "execution_count": 5,
   "metadata": {},
   "outputs": [
    {
     "name": "stdout",
     "output_type": "stream",
     "text": [
      "tensor(11.5604)\n"
     ]
    }
   ],
   "source": [
    "\n",
    "dataset = NSynthDataset(dataset_folder, usage = 'valid', filter_key=None, transform=AT)\n",
    "loader = torch.utils.data.DataLoader(dataset=dataset, batch_size=1024, num_workers=0, shuffle=True)\n",
    "\n",
    "for (x,_) in iter(loader):\n",
    "    max_batch = torch.max(x)\n",
    "    max_value = max(max_value, max_batch)\n",
    "\n",
    "print(max_value)"
   ]
  },
  {
   "cell_type": "code",
   "execution_count": null,
   "metadata": {},
   "outputs": [],
   "source": []
  }
 ],
 "metadata": {
  "kernelspec": {
   "display_name": "timbre_transfer",
   "language": "python",
   "name": "python3"
  },
  "language_info": {
   "codemirror_mode": {
    "name": "ipython",
    "version": 3
   },
   "file_extension": ".py",
   "mimetype": "text/x-python",
   "name": "python",
   "nbconvert_exporter": "python",
   "pygments_lexer": "ipython3",
   "version": "3.9.15"
  },
  "orig_nbformat": 4,
  "vscode": {
   "interpreter": {
    "hash": "e48905bcf4f9b479eb8dca208982f3217048b54a39257e4e840e8b574a804c7b"
   }
  }
 },
 "nbformat": 4,
 "nbformat_minor": 2
}
